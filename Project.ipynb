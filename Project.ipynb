{
 "cells": [
  {
   "cell_type": "markdown",
   "id": "344925fd-b194-4723-9280-11e4dee9f85d",
   "metadata": {
    "jp-MarkdownHeadingCollapsed": true,
    "tags": []
   },
   "source": [
    "# Import Libraries "
   ]
  },
  {
   "cell_type": "code",
   "execution_count": null,
   "id": "b0bc6696-4516-459c-a686-a3097cde737d",
   "metadata": {},
   "outputs": [],
   "source": [
    "\n",
    "import numpy as np\n",
    "import pandas as pd\n",
    "import matplotlib.pyplot as plt\n",
    "import seaborn as sns\n",
    "import itertools\n",
    "from sklearn.model_selection import train_test_split\n",
    "from sklearn.linear_model import LogisticRegression\n",
    "from sklearn.neighbors import KNeighborsClassifier\n",
    "from sklearn.tree import DecisionTreeClassifier\n",
    "from sklearn.metrics import accuracy_score, confusion_matrix, f1_score\n"
   ]
  },
  {
   "cell_type": "markdown",
   "id": "3a79c7cc-7afd-439f-a668-75797284d04f",
   "metadata": {
    "jp-MarkdownHeadingCollapsed": true,
    "tags": []
   },
   "source": [
    "# Import and Read Dataset"
   ]
  },
  {
   "cell_type": "code",
   "execution_count": null,
   "id": "646f3e71-ace6-4dd8-89fb-59ca774e9a0c",
   "metadata": {},
   "outputs": [],
   "source": [
    "\n",
    "df = pd.read_csv('/Users/mahaalatifi/Downloads/application_data.csv')\n",
    "\n",
    "\n",
    "# First rows of Data\n",
    "df.head(3)\n",
    "\n"
   ]
  },
  {
   "cell_type": "markdown",
   "id": "a0c16fce-ba99-41ad-9108-81e4c3d11d9e",
   "metadata": {
    "jp-MarkdownHeadingCollapsed": true,
    "tags": []
   },
   "source": [
    "## Data Dimensions"
   ]
  },
  {
   "cell_type": "code",
   "execution_count": null,
   "id": "1bcaca7f-2437-4e9c-8ffe-0446e71f94af",
   "metadata": {},
   "outputs": [],
   "source": [
    "\n",
    "df.shape\n",
    "\n",
    "#df.dtypes\n",
    "#df.describe()\n",
    "\n",
    "df['TARGET'].value_counts()\n"
   ]
  },
  {
   "cell_type": "markdown",
   "id": "5ae0a0ad-1030-4dbc-9b8f-4e752a38cb97",
   "metadata": {
    "jp-MarkdownHeadingCollapsed": true,
    "tags": []
   },
   "source": [
    "# Cleaning Dataset"
   ]
  },
  {
   "cell_type": "markdown",
   "id": "f06bde72-4ad2-4b01-b8ab-537bd71d1657",
   "metadata": {},
   "source": [
    "\n",
    "<b>Common data cleaning steps for the dataframe</b>\n",
    "<ul><li>Check duplicated rows </li>\n",
    "        <li> Drop dublicated rows </li>\n",
    "    <li> Check missing values  </li>\n",
    "    <li> Drop unused columns  </li> </ul>\n",
    " \n",
    "    "
   ]
  },
  {
   "cell_type": "markdown",
   "id": "279a9826-ab43-4d08-adad-f38b1043bc63",
   "metadata": {
    "tags": []
   },
   "source": [
    "## Check duplicated rows"
   ]
  },
  {
   "cell_type": "code",
   "execution_count": null,
   "id": "da65ffc4-880f-400f-a453-97ff96f479d2",
   "metadata": {},
   "outputs": [],
   "source": [
    "\n",
    "# make copy for the original dataframe\n",
    "df_copy = df.copy()\n"
   ]
  },
  {
   "cell_type": "code",
   "execution_count": null,
   "id": "4b475b1e-0039-4452-a5e1-5ce68c118e7f",
   "metadata": {},
   "outputs": [],
   "source": [
    "Duplicate = df_copy[df_copy.duplicated()]\n",
    "  \n",
    "print(\"Duplicate Rows :\")\n",
    "  \n",
    "# Print the result Dataframe\n",
    "Duplicate\n"
   ]
  },
  {
   "cell_type": "code",
   "execution_count": null,
   "id": "52363536-cb96-4bf3-8b07-baf91c346af5",
   "metadata": {},
   "outputs": [],
   "source": [
    "\n",
    "# print count of the duplicated rows\n",
    "len(df_copy[df_copy.duplicated()])\n"
   ]
  },
  {
   "cell_type": "markdown",
   "id": "d8cef902-ee64-4630-b900-0bbfb77ab151",
   "metadata": {
    "tags": []
   },
   "source": [
    "## Drop duplicated rows"
   ]
  },
  {
   "cell_type": "code",
   "execution_count": null,
   "id": "db6549c3-d2f7-4376-9aec-b2dff8770cac",
   "metadata": {},
   "outputs": [],
   "source": [
    "\n",
    "# drop the duplicated rows\n",
    "df_copy = df_copy.drop_duplicates()\n"
   ]
  },
  {
   "cell_type": "markdown",
   "id": "f2c9b131-dda7-4206-85a4-d99400273680",
   "metadata": {
    "tags": []
   },
   "source": [
    "## Check missing values (Percentage)"
   ]
  },
  {
   "cell_type": "code",
   "execution_count": null,
   "id": "1538eb0e-b687-4c23-8c6b-578906b5e463",
   "metadata": {},
   "outputs": [],
   "source": [
    "\n",
    "pd.set_option(\"display.max_rows\", None, \"display.max_columns\", None)\n",
    "display( round(100 * (df.isnull().sum() / len(df.index)),2) )\n"
   ]
  },
  {
   "cell_type": "markdown",
   "id": "f8ff51ff-dd14-4d66-a2b8-63b6fc5b906b",
   "metadata": {},
   "source": [
    "\n",
    "<b>Removing columns with missing values more than 40%</b>\n",
    "<ul>  </ul>\n",
    " \n",
    "    "
   ]
  },
  {
   "cell_type": "code",
   "execution_count": null,
   "id": "ad91a80d-5b15-4883-952c-1c46bf7d20ae",
   "metadata": {},
   "outputs": [],
   "source": [
    "df_copy = df_copy.drop(['OWN_CAR_AGE','OCCUPATION_TYPE','EXT_SOURCE_1','EXT_SOURCE_2','EXT_SOURCE_3',\n",
    "                        'APARTMENTS_AVG','BASEMENTAREA_AVG','YEARS_BEGINEXPLUATATION_AVG','YEARS_BUILD_AVG',\n",
    "                        'COMMONAREA_AVG','ELEVATORS_AVG','ENTRANCES_AVG','FLOORSMAX_AVG','FLOORSMIN_AVG',\n",
    "                        'LANDAREA_AVG','LIVINGAPARTMENTS_AVG','LIVINGAREA_AVG','NONLIVINGAPARTMENTS_AVG',\n",
    "                        'NONLIVINGAREA_AVG','APARTMENTS_MODE','BASEMENTAREA_MODE','YEARS_BEGINEXPLUATATION_MODE',\n",
    "                        'YEARS_BUILD_MODE','COMMONAREA_MODE','ELEVATORS_MODE','ENTRANCES_MODE','FLOORSMAX_MODE',\n",
    "                        'FLOORSMIN_MODE','LANDAREA_MODE','LIVINGAPARTMENTS_MODE','LIVINGAREA_MODE',\n",
    "                        'NONLIVINGAPARTMENTS_MODE','NONLIVINGAREA_MODE','APARTMENTS_MEDI','BASEMENTAREA_MEDI',\n",
    "                        'YEARS_BEGINEXPLUATATION_MEDI','YEARS_BUILD_MEDI','COMMONAREA_MEDI','ELEVATORS_MEDI',\n",
    "                        'ENTRANCES_MEDI','FLOORSMAX_MEDI','FLOORSMIN_MEDI','LANDAREA_MEDI',\n",
    "                        'LIVINGAPARTMENTS_MEDI','LIVINGAREA_MEDI','NONLIVINGAPARTMENTS_MEDI',\n",
    "                        'NONLIVINGAREA_MEDI','FONDKAPREMONT_MODE','HOUSETYPE_MODE','TOTALAREA_MODE',\n",
    "                        'WALLSMATERIAL_MODE','EMERGENCYSTATE_MODE'] , axis=1)"
   ]
  },
  {
   "cell_type": "code",
   "execution_count": null,
   "id": "5a74f0a2-236d-4b65-8b32-3ddd86617951",
   "metadata": {},
   "outputs": [],
   "source": [
    "df_copy.shape"
   ]
  },
  {
   "cell_type": "code",
   "execution_count": null,
   "id": "b4923f1d-be64-418c-af5b-31fe91df5518",
   "metadata": {},
   "outputs": [],
   "source": [
    "\n",
    "# Percentage of Null Values:\n",
    "pd.set_option(\"display.max_rows\", None, \"display.max_columns\", None)\n",
    "display( round(100 * (df_copy.isnull().sum() / len(df_copy.index)),2) )\n",
    "\n",
    "\n",
    "# Count of Null Values:\n",
    "print(df_copy.isnull().sum())\n"
   ]
  },
  {
   "cell_type": "code",
   "execution_count": null,
   "id": "290cbcfe-7bf9-44c6-9e61-4ea2b06c3c52",
   "metadata": {},
   "outputs": [],
   "source": [
    "print(type(df_copy.info()))"
   ]
  },
  {
   "cell_type": "markdown",
   "id": "fa05d54e-0b93-4788-a328-25e046ce096b",
   "metadata": {},
   "source": [
    "\n",
    "<b>Dealing with missing values</b>\n",
    "<ul>  </ul>\n",
    " \n",
    "    "
   ]
  },
  {
   "cell_type": "markdown",
   "id": "3814d480-0250-45f0-9c8f-a67d3194aaaa",
   "metadata": {},
   "source": [
    "\n",
    "<li> Now we have dropped {52} unused columns, since the Null values percentage for these columns is more than 40%</li>\n",
    "\n",
    "<li>Moreover, we have now {70} columns, {12} of them have percentage of Null values less than 40% and we need to handle them.</li>\n",
    "\n",
    "<li>The rest of columns have 0% of Null values </li>\n",
    "\n",
    "<ul>  </ul>\n",
    "\n",
    "<b>  </b> \n",
    "    "
   ]
  },
  {
   "cell_type": "code",
   "execution_count": null,
   "id": "a34864f4-5896-428b-8514-5f6f2375e189",
   "metadata": {},
   "outputs": [],
   "source": []
  },
  {
   "cell_type": "markdown",
   "id": "205889e7-ffb0-4664-83ca-db95af1a961b",
   "metadata": {
    "jp-MarkdownHeadingCollapsed": true,
    "tags": []
   },
   "source": [
    "# Features Understanding"
   ]
  },
  {
   "cell_type": "markdown",
   "id": "18fb15c2-502c-429c-9f6b-0e6129b0b055",
   "metadata": {},
   "source": [
    "\n",
    "<b>The dataset contain all the information of the client at the time of application for loan. The data is about whether a client has payment difficulties or NOT</b>\n",
    "\n",
    "<ul> Therefore, we have column \"TARGET\", that will predict to minimise the risk of losing money while lending to customers. \n",
    "</ul>\n",
    "\n",
    "<ul> Moreover, it contains two options:</ul>\n",
    "<ul> <b>1</b> :Client with payment difficulties: he/she had late payment more than X days. \"Defaulter\"\n",
    "\n",
    "<b>0</b> : All other cases when the payment is paid on time. \"Non-Defaulter\" </ul>\n",
    "\n",
    "\n",
    "<b>\n",
    "    Distribution of Target variable\n",
    "</b>\n",
    " "
   ]
  },
  {
   "cell_type": "code",
   "execution_count": null,
   "id": "affa0bd2-568e-4f1c-bc8f-1f9d1ef7612f",
   "metadata": {},
   "outputs": [],
   "source": [
    "T1 = df_copy[\"TARGET\"].value_counts().plot(kind=\"barh\")\n",
    "#for i,j in enumerate(df_copy[\"TARGET\"].value_counts().values):\n",
    " #   T1.text(0.5,i,j,fontsize=20)\n",
    "plt.title(\"Count of Target variable\")"
   ]
  },
  {
   "cell_type": "code",
   "execution_count": null,
   "id": "adbca0fd-46d9-4794-b048-7e3d7eee1711",
   "metadata": {},
   "outputs": [],
   "source": [
    "T2 = df_copy[\"TARGET\"].value_counts().plot.pie(labels=[\"Non-Defaulter\",\"Defaulter\"],startangle = 50,label='',\n",
    "                                          wedgeprops={\"linewidth\":5},center=(0, 0),colors = [\"Green\",\"Red\"],\n",
    "                                          rotatelabels=False,explode=[0.1,0],autopct = \"%1.0f%%\",figsize=(5,5))\n",
    "plt.title(\"Percentage of Target variable\")"
   ]
  },
  {
   "cell_type": "markdown",
   "id": "5cc0bc72-ff22-49e5-9d2f-a05ddaa18297",
   "metadata": {},
   "source": [
    "\n",
    "<b>\n",
    "    Distribution of [NAME_CONTRACT_TYPE] variable\n",
    "</b>\n",
    " "
   ]
  },
  {
   "cell_type": "code",
   "execution_count": null,
   "id": "c8f540c7-c2ab-4836-9a95-cf6906090c0d",
   "metadata": {},
   "outputs": [],
   "source": [
    "df['NAME_CONTRACT_TYPE'].unique()"
   ]
  },
  {
   "cell_type": "code",
   "execution_count": null,
   "id": "d622dcd6-9374-4ce9-9b92-ff3e2cc366c4",
   "metadata": {},
   "outputs": [],
   "source": [
    "NCT = df_copy[\"NAME_CONTRACT_TYPE\"].value_counts().plot.pie(labels=[\"Cash loans\",\"Revolving loans\"],\n",
    "                                                            startangle = 30,wedgeprops={\"linewidth\":5},\n",
    "                                                            center=(0, 0),colors = [\"Blue\",\"Yellow\"],\n",
    "                                                            rotatelabels=False,explode=[0.1,0],\n",
    "                                                            autopct = \"%1.0f%%\",figsize=(5,5),label='')\n",
    "plt.title(\"Percentage of NAME_CONTRACT_TYPE variable\")"
   ]
  },
  {
   "cell_type": "markdown",
   "id": "26766f1c-d4d2-4b2d-bf7c-ca956c244052",
   "metadata": {},
   "source": [
    "\n",
    "<b>\n",
    "    Distribution of [Amount Data] variable:\n",
    "</b>\n",
    "    <li> [AMT_INCOME_TOTAL]: income of the client\n",
    "    <li> [AMT_CREDIT]: credit amount of the loan\n",
    "    <li> [AMT_ANNUITY]: loan annuity\n",
    "    <li> [AMT_GOODS_PRICE]: for consumer loans it is the price of the goods for which the loan is given\n",
    "</li>\n",
    "\n",
    " "
   ]
  },
  {
   "cell_type": "code",
   "execution_count": null,
   "id": "f8dea50a-e28d-4f1f-9f38-6433bbbc8d6f",
   "metadata": {},
   "outputs": [],
   "source": [
    "#AD = df_copy[['AMT_INCOME_TOTAL', 'AMT_CREDIT','AMT_ANNUITY', 'AMT_GOODS_PRICE']]\n",
    "#plt.subplot(4, 4, AD)\n",
    "#plt.show()"
   ]
  },
  {
   "cell_type": "code",
   "execution_count": null,
   "id": "4ca1e429-c431-4180-b7d1-493ad6a2c72a",
   "metadata": {},
   "outputs": [],
   "source": [
    "AD = df_copy[['AMT_INCOME_TOTAL', 'AMT_CREDIT','AMT_ANNUITY', 'AMT_GOODS_PRICE']].value_counts().plot(kind=\"bar\")\n",
    "#for i,j in enumerate(df_copy[\"TARGET\"].value_counts().values):\n",
    " #   T1.text(0.5,i,j,fontsize=20)\n",
    "plt.title(\"Count of Target variable\")"
   ]
  },
  {
   "cell_type": "markdown",
   "id": "c7d998e2-18ec-4c7c-9883-2bf604d09386",
   "metadata": {
    "jp-MarkdownHeadingCollapsed": true,
    "tags": []
   },
   "source": [
    "## Features Correlation"
   ]
  },
  {
   "cell_type": "code",
   "execution_count": null,
   "id": "cffb8030-2d3c-4fa3-910d-d0838e095482",
   "metadata": {},
   "outputs": [],
   "source": [
    "print(type(df_copy.info()))"
   ]
  },
  {
   "cell_type": "markdown",
   "id": "d3b01447-718e-4bd6-95a9-45a9a513dff3",
   "metadata": {},
   "source": [
    "# Modeling"
   ]
  },
  {
   "cell_type": "code",
   "execution_count": null,
   "id": "280974f5-7416-419f-a718-eb91ae0918c9",
   "metadata": {},
   "outputs": [],
   "source": [
    "# divide the dataset into train and test data, We used 80/20\n",
    "from sklearn.model_selection import train_test_split\n",
    "x_train, x_test, y_train, y_test = train_test_split(df_copy,df_copy['TARGET'],test_size = .2, random_state=42)\n",
    "x_train.shape,x_test.shape,y_train.shape,y_test.shape"
   ]
  },
  {
   "cell_type": "markdown",
   "id": "a0b1bbf2-39c6-4e11-85f8-b38ec80e2534",
   "metadata": {},
   "source": [
    "# Modelling with Imbalanced dataset\n"
   ]
  },
  {
   "cell_type": "code",
   "execution_count": null,
   "id": "32d03ee2-f5e3-4d9b-a79b-a95cfbd843b7",
   "metadata": {},
   "outputs": [],
   "source": [
    "# import\n",
    "\n",
    "import string\n",
    "from sklearn.pipeline import Pipeline\n",
    "from sklearn.datasets import fetch_20newsgroups\n",
    "from sklearn.feature_extraction.text import TfidfVectorizer\n",
    "from sklearn.naive_bayes import MultinomialNB\n",
    "from sklearn import metrics\n",
    "from sklearn.metrics import classification_report \n",
    "\n",
    "\n",
    "from sklearn.tree import DecisionTreeClassifier\n",
    "\n",
    "from sklearn.ensemble import BaggingClassifier\n",
    "from sklearn.linear_model import LogisticRegression\n",
    "\n",
    "from sklearn.linear_model import SGDClassifier\n",
    "\n",
    "from sklearn.ensemble import RandomForestClassifier\n",
    "from sklearn.tree import DecisionTreeClassifier\n",
    "\n",
    "\n"
   ]
  },
  {
   "cell_type": "code",
   "execution_count": null,
   "id": "f7f71456-6bd3-4b9a-9151-a683044c3d2d",
   "metadata": {},
   "outputs": [],
   "source": [
    "#dataset before sampling\n",
    "\n",
    "pipeline = Pipeline([\n",
    "    ('classifier', MultinomialNB())\n",
    "])\n",
    "\n",
    "#review_train, review_test, label_train, label_test = train_test_split(X, y, test_size=0.20)\n",
    "pipeline.fit(x_train, y_train)\n",
    "pip_pred = pipeline.predict(x_test)\n",
    "print(metrics.classification_report(y_test, pip_pred))\n",
    "\n",
    "#('Tf-Idf', TfidfVectorizer(ngram_range=(1,2)))\n"
   ]
  },
  {
   "cell_type": "code",
   "execution_count": null,
   "id": "8457d83f-128d-4621-bc52-2e854fa1b029",
   "metadata": {},
   "outputs": [],
   "source": []
  }
 ],
 "metadata": {
  "kernelspec": {
   "display_name": "Python 3 (ipykernel)",
   "language": "python",
   "name": "python3"
  },
  "language_info": {
   "codemirror_mode": {
    "name": "ipython",
    "version": 3
   },
   "file_extension": ".py",
   "mimetype": "text/x-python",
   "name": "python",
   "nbconvert_exporter": "python",
   "pygments_lexer": "ipython3",
   "version": "3.9.7"
  }
 },
 "nbformat": 4,
 "nbformat_minor": 5
}
