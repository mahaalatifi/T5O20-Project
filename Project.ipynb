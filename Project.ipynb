{
 "cells": [
  {
   "cell_type": "markdown",
   "id": "344925fd-b194-4723-9280-11e4dee9f85d",
   "metadata": {
    "jp-MarkdownHeadingCollapsed": true,
    "tags": []
   },
   "source": [
    "# Import Libraries "
   ]
  },
  {
   "cell_type": "code",
   "execution_count": 1,
   "id": "b0bc6696-4516-459c-a686-a3097cde737d",
   "metadata": {},
   "outputs": [],
   "source": [
    "\n",
    "import numpy as np\n",
    "import pandas as pd\n",
    "import matplotlib.pyplot as plt\n",
    "import seaborn as sns\n",
    "import itertools\n",
    "from sklearn.model_selection import train_test_split\n",
    "from sklearn.linear_model import LogisticRegression\n",
    "from sklearn.neighbors import KNeighborsClassifier\n",
    "from sklearn.tree import DecisionTreeClassifier\n",
    "from sklearn.metrics import accuracy_score, confusion_matrix, f1_score\n"
   ]
  },
  {
   "cell_type": "markdown",
   "id": "3a79c7cc-7afd-439f-a668-75797284d04f",
   "metadata": {
    "jp-MarkdownHeadingCollapsed": true,
    "tags": []
   },
   "source": [
    "# Import and Read Dataset"
   ]
  },
  {
   "cell_type": "code",
   "execution_count": 2,
   "id": "646f3e71-ace6-4dd8-89fb-59ca774e9a0c",
   "metadata": {},
   "outputs": [
    {
     "data": {
      "text/html": [
       "<div>\n",
       "<style scoped>\n",
       "    .dataframe tbody tr th:only-of-type {\n",
       "        vertical-align: middle;\n",
       "    }\n",
       "\n",
       "    .dataframe tbody tr th {\n",
       "        vertical-align: top;\n",
       "    }\n",
       "\n",
       "    .dataframe thead th {\n",
       "        text-align: right;\n",
       "    }\n",
       "</style>\n",
       "<table border=\"1\" class=\"dataframe\">\n",
       "  <thead>\n",
       "    <tr style=\"text-align: right;\">\n",
       "      <th></th>\n",
       "      <th>SK_ID_CURR</th>\n",
       "      <th>TARGET</th>\n",
       "      <th>NAME_CONTRACT_TYPE</th>\n",
       "      <th>CODE_GENDER</th>\n",
       "      <th>FLAG_OWN_CAR</th>\n",
       "      <th>FLAG_OWN_REALTY</th>\n",
       "      <th>CNT_CHILDREN</th>\n",
       "      <th>AMT_INCOME_TOTAL</th>\n",
       "      <th>AMT_CREDIT</th>\n",
       "      <th>AMT_ANNUITY</th>\n",
       "      <th>...</th>\n",
       "      <th>FLAG_DOCUMENT_18</th>\n",
       "      <th>FLAG_DOCUMENT_19</th>\n",
       "      <th>FLAG_DOCUMENT_20</th>\n",
       "      <th>FLAG_DOCUMENT_21</th>\n",
       "      <th>AMT_REQ_CREDIT_BUREAU_HOUR</th>\n",
       "      <th>AMT_REQ_CREDIT_BUREAU_DAY</th>\n",
       "      <th>AMT_REQ_CREDIT_BUREAU_WEEK</th>\n",
       "      <th>AMT_REQ_CREDIT_BUREAU_MON</th>\n",
       "      <th>AMT_REQ_CREDIT_BUREAU_QRT</th>\n",
       "      <th>AMT_REQ_CREDIT_BUREAU_YEAR</th>\n",
       "    </tr>\n",
       "  </thead>\n",
       "  <tbody>\n",
       "    <tr>\n",
       "      <th>0</th>\n",
       "      <td>100002</td>\n",
       "      <td>1</td>\n",
       "      <td>Cash loans</td>\n",
       "      <td>M</td>\n",
       "      <td>N</td>\n",
       "      <td>Y</td>\n",
       "      <td>0</td>\n",
       "      <td>202500.0</td>\n",
       "      <td>406597.5</td>\n",
       "      <td>24700.5</td>\n",
       "      <td>...</td>\n",
       "      <td>0</td>\n",
       "      <td>0</td>\n",
       "      <td>0</td>\n",
       "      <td>0</td>\n",
       "      <td>0.0</td>\n",
       "      <td>0.0</td>\n",
       "      <td>0.0</td>\n",
       "      <td>0.0</td>\n",
       "      <td>0.0</td>\n",
       "      <td>1.0</td>\n",
       "    </tr>\n",
       "    <tr>\n",
       "      <th>1</th>\n",
       "      <td>100003</td>\n",
       "      <td>0</td>\n",
       "      <td>Cash loans</td>\n",
       "      <td>F</td>\n",
       "      <td>N</td>\n",
       "      <td>N</td>\n",
       "      <td>0</td>\n",
       "      <td>270000.0</td>\n",
       "      <td>1293502.5</td>\n",
       "      <td>35698.5</td>\n",
       "      <td>...</td>\n",
       "      <td>0</td>\n",
       "      <td>0</td>\n",
       "      <td>0</td>\n",
       "      <td>0</td>\n",
       "      <td>0.0</td>\n",
       "      <td>0.0</td>\n",
       "      <td>0.0</td>\n",
       "      <td>0.0</td>\n",
       "      <td>0.0</td>\n",
       "      <td>0.0</td>\n",
       "    </tr>\n",
       "    <tr>\n",
       "      <th>2</th>\n",
       "      <td>100004</td>\n",
       "      <td>0</td>\n",
       "      <td>Revolving loans</td>\n",
       "      <td>M</td>\n",
       "      <td>Y</td>\n",
       "      <td>Y</td>\n",
       "      <td>0</td>\n",
       "      <td>67500.0</td>\n",
       "      <td>135000.0</td>\n",
       "      <td>6750.0</td>\n",
       "      <td>...</td>\n",
       "      <td>0</td>\n",
       "      <td>0</td>\n",
       "      <td>0</td>\n",
       "      <td>0</td>\n",
       "      <td>0.0</td>\n",
       "      <td>0.0</td>\n",
       "      <td>0.0</td>\n",
       "      <td>0.0</td>\n",
       "      <td>0.0</td>\n",
       "      <td>0.0</td>\n",
       "    </tr>\n",
       "  </tbody>\n",
       "</table>\n",
       "<p>3 rows × 122 columns</p>\n",
       "</div>"
      ],
      "text/plain": [
       "   SK_ID_CURR  TARGET NAME_CONTRACT_TYPE CODE_GENDER FLAG_OWN_CAR  \\\n",
       "0      100002       1         Cash loans           M            N   \n",
       "1      100003       0         Cash loans           F            N   \n",
       "2      100004       0    Revolving loans           M            Y   \n",
       "\n",
       "  FLAG_OWN_REALTY  CNT_CHILDREN  AMT_INCOME_TOTAL  AMT_CREDIT  AMT_ANNUITY  \\\n",
       "0               Y             0          202500.0    406597.5      24700.5   \n",
       "1               N             0          270000.0   1293502.5      35698.5   \n",
       "2               Y             0           67500.0    135000.0       6750.0   \n",
       "\n",
       "   ...  FLAG_DOCUMENT_18 FLAG_DOCUMENT_19 FLAG_DOCUMENT_20 FLAG_DOCUMENT_21  \\\n",
       "0  ...                 0                0                0                0   \n",
       "1  ...                 0                0                0                0   \n",
       "2  ...                 0                0                0                0   \n",
       "\n",
       "  AMT_REQ_CREDIT_BUREAU_HOUR AMT_REQ_CREDIT_BUREAU_DAY  \\\n",
       "0                        0.0                       0.0   \n",
       "1                        0.0                       0.0   \n",
       "2                        0.0                       0.0   \n",
       "\n",
       "   AMT_REQ_CREDIT_BUREAU_WEEK  AMT_REQ_CREDIT_BUREAU_MON  \\\n",
       "0                         0.0                        0.0   \n",
       "1                         0.0                        0.0   \n",
       "2                         0.0                        0.0   \n",
       "\n",
       "   AMT_REQ_CREDIT_BUREAU_QRT  AMT_REQ_CREDIT_BUREAU_YEAR  \n",
       "0                        0.0                         1.0  \n",
       "1                        0.0                         0.0  \n",
       "2                        0.0                         0.0  \n",
       "\n",
       "[3 rows x 122 columns]"
      ]
     },
     "execution_count": 2,
     "metadata": {},
     "output_type": "execute_result"
    }
   ],
   "source": [
    "\n",
    "df = pd.read_csv('/Users/mahaalatifi/Downloads/application_data.csv')\n",
    "\n",
    "\n",
    "# First rows of Data\n",
    "df.head(3)\n",
    "\n"
   ]
  },
  {
   "cell_type": "markdown",
   "id": "a0c16fce-ba99-41ad-9108-81e4c3d11d9e",
   "metadata": {
    "jp-MarkdownHeadingCollapsed": true,
    "tags": []
   },
   "source": [
    "## Data Dimensions"
   ]
  },
  {
   "cell_type": "code",
   "execution_count": 3,
   "id": "1bcaca7f-2437-4e9c-8ffe-0446e71f94af",
   "metadata": {},
   "outputs": [
    {
     "data": {
      "text/plain": [
       "0    282686\n",
       "1     24825\n",
       "Name: TARGET, dtype: int64"
      ]
     },
     "execution_count": 3,
     "metadata": {},
     "output_type": "execute_result"
    }
   ],
   "source": [
    "\n",
    "df.shape\n",
    "\n",
    "#df.dtypes\n",
    "#df.describe()\n",
    "\n",
    "df['TARGET'].value_counts()\n"
   ]
  },
  {
   "cell_type": "markdown",
   "id": "5ae0a0ad-1030-4dbc-9b8f-4e752a38cb97",
   "metadata": {
    "jp-MarkdownHeadingCollapsed": true,
    "tags": []
   },
   "source": [
    "# Cleaning Dataset"
   ]
  },
  {
   "cell_type": "markdown",
   "id": "f06bde72-4ad2-4b01-b8ab-537bd71d1657",
   "metadata": {},
   "source": [
    "\n",
    "<b>Common data cleaning steps for the dataframe</b>\n",
    "<ul><li>Check duplicated rows </li>\n",
    "        <li> Drop dublicated rows </li>\n",
    "    <li> Check missing values  </li>\n",
    "    <li> Drop unused columns  </li> </ul>\n",
    " \n",
    "    "
   ]
  },
  {
   "cell_type": "markdown",
   "id": "279a9826-ab43-4d08-adad-f38b1043bc63",
   "metadata": {
    "tags": []
   },
   "source": [
    "## Check duplicated rows"
   ]
  },
  {
   "cell_type": "code",
   "execution_count": 4,
   "id": "da65ffc4-880f-400f-a453-97ff96f479d2",
   "metadata": {},
   "outputs": [],
   "source": [
    "\n",
    "# make copy for the original dataframe\n",
    "df_copy = df.copy()\n"
   ]
  },
  {
   "cell_type": "code",
   "execution_count": 5,
   "id": "4b475b1e-0039-4452-a5e1-5ce68c118e7f",
   "metadata": {},
   "outputs": [
    {
     "name": "stdout",
     "output_type": "stream",
     "text": [
      "Duplicate Rows :\n"
     ]
    },
    {
     "data": {
      "text/html": [
       "<div>\n",
       "<style scoped>\n",
       "    .dataframe tbody tr th:only-of-type {\n",
       "        vertical-align: middle;\n",
       "    }\n",
       "\n",
       "    .dataframe tbody tr th {\n",
       "        vertical-align: top;\n",
       "    }\n",
       "\n",
       "    .dataframe thead th {\n",
       "        text-align: right;\n",
       "    }\n",
       "</style>\n",
       "<table border=\"1\" class=\"dataframe\">\n",
       "  <thead>\n",
       "    <tr style=\"text-align: right;\">\n",
       "      <th></th>\n",
       "      <th>SK_ID_CURR</th>\n",
       "      <th>TARGET</th>\n",
       "      <th>NAME_CONTRACT_TYPE</th>\n",
       "      <th>CODE_GENDER</th>\n",
       "      <th>FLAG_OWN_CAR</th>\n",
       "      <th>FLAG_OWN_REALTY</th>\n",
       "      <th>CNT_CHILDREN</th>\n",
       "      <th>AMT_INCOME_TOTAL</th>\n",
       "      <th>AMT_CREDIT</th>\n",
       "      <th>AMT_ANNUITY</th>\n",
       "      <th>...</th>\n",
       "      <th>FLAG_DOCUMENT_18</th>\n",
       "      <th>FLAG_DOCUMENT_19</th>\n",
       "      <th>FLAG_DOCUMENT_20</th>\n",
       "      <th>FLAG_DOCUMENT_21</th>\n",
       "      <th>AMT_REQ_CREDIT_BUREAU_HOUR</th>\n",
       "      <th>AMT_REQ_CREDIT_BUREAU_DAY</th>\n",
       "      <th>AMT_REQ_CREDIT_BUREAU_WEEK</th>\n",
       "      <th>AMT_REQ_CREDIT_BUREAU_MON</th>\n",
       "      <th>AMT_REQ_CREDIT_BUREAU_QRT</th>\n",
       "      <th>AMT_REQ_CREDIT_BUREAU_YEAR</th>\n",
       "    </tr>\n",
       "  </thead>\n",
       "  <tbody>\n",
       "  </tbody>\n",
       "</table>\n",
       "<p>0 rows × 122 columns</p>\n",
       "</div>"
      ],
      "text/plain": [
       "Empty DataFrame\n",
       "Columns: [SK_ID_CURR, TARGET, NAME_CONTRACT_TYPE, CODE_GENDER, FLAG_OWN_CAR, FLAG_OWN_REALTY, CNT_CHILDREN, AMT_INCOME_TOTAL, AMT_CREDIT, AMT_ANNUITY, AMT_GOODS_PRICE, NAME_TYPE_SUITE, NAME_INCOME_TYPE, NAME_EDUCATION_TYPE, NAME_FAMILY_STATUS, NAME_HOUSING_TYPE, REGION_POPULATION_RELATIVE, DAYS_BIRTH, DAYS_EMPLOYED, DAYS_REGISTRATION, DAYS_ID_PUBLISH, OWN_CAR_AGE, FLAG_MOBIL, FLAG_EMP_PHONE, FLAG_WORK_PHONE, FLAG_CONT_MOBILE, FLAG_PHONE, FLAG_EMAIL, OCCUPATION_TYPE, CNT_FAM_MEMBERS, REGION_RATING_CLIENT, REGION_RATING_CLIENT_W_CITY, WEEKDAY_APPR_PROCESS_START, HOUR_APPR_PROCESS_START, REG_REGION_NOT_LIVE_REGION, REG_REGION_NOT_WORK_REGION, LIVE_REGION_NOT_WORK_REGION, REG_CITY_NOT_LIVE_CITY, REG_CITY_NOT_WORK_CITY, LIVE_CITY_NOT_WORK_CITY, ORGANIZATION_TYPE, EXT_SOURCE_1, EXT_SOURCE_2, EXT_SOURCE_3, APARTMENTS_AVG, BASEMENTAREA_AVG, YEARS_BEGINEXPLUATATION_AVG, YEARS_BUILD_AVG, COMMONAREA_AVG, ELEVATORS_AVG, ENTRANCES_AVG, FLOORSMAX_AVG, FLOORSMIN_AVG, LANDAREA_AVG, LIVINGAPARTMENTS_AVG, LIVINGAREA_AVG, NONLIVINGAPARTMENTS_AVG, NONLIVINGAREA_AVG, APARTMENTS_MODE, BASEMENTAREA_MODE, YEARS_BEGINEXPLUATATION_MODE, YEARS_BUILD_MODE, COMMONAREA_MODE, ELEVATORS_MODE, ENTRANCES_MODE, FLOORSMAX_MODE, FLOORSMIN_MODE, LANDAREA_MODE, LIVINGAPARTMENTS_MODE, LIVINGAREA_MODE, NONLIVINGAPARTMENTS_MODE, NONLIVINGAREA_MODE, APARTMENTS_MEDI, BASEMENTAREA_MEDI, YEARS_BEGINEXPLUATATION_MEDI, YEARS_BUILD_MEDI, COMMONAREA_MEDI, ELEVATORS_MEDI, ENTRANCES_MEDI, FLOORSMAX_MEDI, FLOORSMIN_MEDI, LANDAREA_MEDI, LIVINGAPARTMENTS_MEDI, LIVINGAREA_MEDI, NONLIVINGAPARTMENTS_MEDI, NONLIVINGAREA_MEDI, FONDKAPREMONT_MODE, HOUSETYPE_MODE, TOTALAREA_MODE, WALLSMATERIAL_MODE, EMERGENCYSTATE_MODE, OBS_30_CNT_SOCIAL_CIRCLE, DEF_30_CNT_SOCIAL_CIRCLE, OBS_60_CNT_SOCIAL_CIRCLE, DEF_60_CNT_SOCIAL_CIRCLE, DAYS_LAST_PHONE_CHANGE, FLAG_DOCUMENT_2, FLAG_DOCUMENT_3, FLAG_DOCUMENT_4, FLAG_DOCUMENT_5, ...]\n",
       "Index: []\n",
       "\n",
       "[0 rows x 122 columns]"
      ]
     },
     "execution_count": 5,
     "metadata": {},
     "output_type": "execute_result"
    }
   ],
   "source": [
    "Duplicate = df_copy[df_copy.duplicated()]\n",
    "  \n",
    "print(\"Duplicate Rows :\")\n",
    "  \n",
    "# Print the result Dataframe\n",
    "Duplicate\n"
   ]
  },
  {
   "cell_type": "code",
   "execution_count": 6,
   "id": "52363536-cb96-4bf3-8b07-baf91c346af5",
   "metadata": {},
   "outputs": [
    {
     "data": {
      "text/plain": [
       "0"
      ]
     },
     "execution_count": 6,
     "metadata": {},
     "output_type": "execute_result"
    }
   ],
   "source": [
    "\n",
    "# print count of the duplicated rows\n",
    "len(df_copy[df_copy.duplicated()])\n"
   ]
  },
  {
   "cell_type": "markdown",
   "id": "d8cef902-ee64-4630-b900-0bbfb77ab151",
   "metadata": {
    "tags": []
   },
   "source": [
    "## Drop duplicated rows"
   ]
  },
  {
   "cell_type": "code",
   "execution_count": 7,
   "id": "db6549c3-d2f7-4376-9aec-b2dff8770cac",
   "metadata": {},
   "outputs": [],
   "source": [
    "\n",
    "# drop the duplicated rows\n",
    "df_copy = df_copy.drop_duplicates()\n"
   ]
  },
  {
   "cell_type": "markdown",
   "id": "f2c9b131-dda7-4206-85a4-d99400273680",
   "metadata": {
    "tags": []
   },
   "source": [
    "## Check missing values (Percentage)"
   ]
  },
  {
   "cell_type": "code",
   "execution_count": 8,
   "id": "1538eb0e-b687-4c23-8c6b-578906b5e463",
   "metadata": {},
   "outputs": [
    {
     "data": {
      "text/plain": [
       "SK_ID_CURR                       0.00\n",
       "TARGET                           0.00\n",
       "NAME_CONTRACT_TYPE               0.00\n",
       "CODE_GENDER                      0.00\n",
       "FLAG_OWN_CAR                     0.00\n",
       "FLAG_OWN_REALTY                  0.00\n",
       "CNT_CHILDREN                     0.00\n",
       "AMT_INCOME_TOTAL                 0.00\n",
       "AMT_CREDIT                       0.00\n",
       "AMT_ANNUITY                      0.00\n",
       "AMT_GOODS_PRICE                  0.09\n",
       "NAME_TYPE_SUITE                  0.42\n",
       "NAME_INCOME_TYPE                 0.00\n",
       "NAME_EDUCATION_TYPE              0.00\n",
       "NAME_FAMILY_STATUS               0.00\n",
       "NAME_HOUSING_TYPE                0.00\n",
       "REGION_POPULATION_RELATIVE       0.00\n",
       "DAYS_BIRTH                       0.00\n",
       "DAYS_EMPLOYED                    0.00\n",
       "DAYS_REGISTRATION                0.00\n",
       "DAYS_ID_PUBLISH                  0.00\n",
       "OWN_CAR_AGE                     65.99\n",
       "FLAG_MOBIL                       0.00\n",
       "FLAG_EMP_PHONE                   0.00\n",
       "FLAG_WORK_PHONE                  0.00\n",
       "FLAG_CONT_MOBILE                 0.00\n",
       "FLAG_PHONE                       0.00\n",
       "FLAG_EMAIL                       0.00\n",
       "OCCUPATION_TYPE                 31.35\n",
       "CNT_FAM_MEMBERS                  0.00\n",
       "REGION_RATING_CLIENT             0.00\n",
       "REGION_RATING_CLIENT_W_CITY      0.00\n",
       "WEEKDAY_APPR_PROCESS_START       0.00\n",
       "HOUR_APPR_PROCESS_START          0.00\n",
       "REG_REGION_NOT_LIVE_REGION       0.00\n",
       "REG_REGION_NOT_WORK_REGION       0.00\n",
       "LIVE_REGION_NOT_WORK_REGION      0.00\n",
       "REG_CITY_NOT_LIVE_CITY           0.00\n",
       "REG_CITY_NOT_WORK_CITY           0.00\n",
       "LIVE_CITY_NOT_WORK_CITY          0.00\n",
       "ORGANIZATION_TYPE                0.00\n",
       "EXT_SOURCE_1                    56.38\n",
       "EXT_SOURCE_2                     0.21\n",
       "EXT_SOURCE_3                    19.83\n",
       "APARTMENTS_AVG                  50.75\n",
       "BASEMENTAREA_AVG                58.52\n",
       "YEARS_BEGINEXPLUATATION_AVG     48.78\n",
       "YEARS_BUILD_AVG                 66.50\n",
       "COMMONAREA_AVG                  69.87\n",
       "ELEVATORS_AVG                   53.30\n",
       "ENTRANCES_AVG                   50.35\n",
       "FLOORSMAX_AVG                   49.76\n",
       "FLOORSMIN_AVG                   67.85\n",
       "LANDAREA_AVG                    59.38\n",
       "LIVINGAPARTMENTS_AVG            68.35\n",
       "LIVINGAREA_AVG                  50.19\n",
       "NONLIVINGAPARTMENTS_AVG         69.43\n",
       "NONLIVINGAREA_AVG               55.18\n",
       "APARTMENTS_MODE                 50.75\n",
       "BASEMENTAREA_MODE               58.52\n",
       "YEARS_BEGINEXPLUATATION_MODE    48.78\n",
       "YEARS_BUILD_MODE                66.50\n",
       "COMMONAREA_MODE                 69.87\n",
       "ELEVATORS_MODE                  53.30\n",
       "ENTRANCES_MODE                  50.35\n",
       "FLOORSMAX_MODE                  49.76\n",
       "FLOORSMIN_MODE                  67.85\n",
       "LANDAREA_MODE                   59.38\n",
       "LIVINGAPARTMENTS_MODE           68.35\n",
       "LIVINGAREA_MODE                 50.19\n",
       "NONLIVINGAPARTMENTS_MODE        69.43\n",
       "NONLIVINGAREA_MODE              55.18\n",
       "APARTMENTS_MEDI                 50.75\n",
       "BASEMENTAREA_MEDI               58.52\n",
       "YEARS_BEGINEXPLUATATION_MEDI    48.78\n",
       "YEARS_BUILD_MEDI                66.50\n",
       "COMMONAREA_MEDI                 69.87\n",
       "ELEVATORS_MEDI                  53.30\n",
       "ENTRANCES_MEDI                  50.35\n",
       "FLOORSMAX_MEDI                  49.76\n",
       "FLOORSMIN_MEDI                  67.85\n",
       "LANDAREA_MEDI                   59.38\n",
       "LIVINGAPARTMENTS_MEDI           68.35\n",
       "LIVINGAREA_MEDI                 50.19\n",
       "NONLIVINGAPARTMENTS_MEDI        69.43\n",
       "NONLIVINGAREA_MEDI              55.18\n",
       "FONDKAPREMONT_MODE              68.39\n",
       "HOUSETYPE_MODE                  50.18\n",
       "TOTALAREA_MODE                  48.27\n",
       "WALLSMATERIAL_MODE              50.84\n",
       "EMERGENCYSTATE_MODE             47.40\n",
       "OBS_30_CNT_SOCIAL_CIRCLE         0.33\n",
       "DEF_30_CNT_SOCIAL_CIRCLE         0.33\n",
       "OBS_60_CNT_SOCIAL_CIRCLE         0.33\n",
       "DEF_60_CNT_SOCIAL_CIRCLE         0.33\n",
       "DAYS_LAST_PHONE_CHANGE           0.00\n",
       "FLAG_DOCUMENT_2                  0.00\n",
       "FLAG_DOCUMENT_3                  0.00\n",
       "FLAG_DOCUMENT_4                  0.00\n",
       "FLAG_DOCUMENT_5                  0.00\n",
       "FLAG_DOCUMENT_6                  0.00\n",
       "FLAG_DOCUMENT_7                  0.00\n",
       "FLAG_DOCUMENT_8                  0.00\n",
       "FLAG_DOCUMENT_9                  0.00\n",
       "FLAG_DOCUMENT_10                 0.00\n",
       "FLAG_DOCUMENT_11                 0.00\n",
       "FLAG_DOCUMENT_12                 0.00\n",
       "FLAG_DOCUMENT_13                 0.00\n",
       "FLAG_DOCUMENT_14                 0.00\n",
       "FLAG_DOCUMENT_15                 0.00\n",
       "FLAG_DOCUMENT_16                 0.00\n",
       "FLAG_DOCUMENT_17                 0.00\n",
       "FLAG_DOCUMENT_18                 0.00\n",
       "FLAG_DOCUMENT_19                 0.00\n",
       "FLAG_DOCUMENT_20                 0.00\n",
       "FLAG_DOCUMENT_21                 0.00\n",
       "AMT_REQ_CREDIT_BUREAU_HOUR      13.50\n",
       "AMT_REQ_CREDIT_BUREAU_DAY       13.50\n",
       "AMT_REQ_CREDIT_BUREAU_WEEK      13.50\n",
       "AMT_REQ_CREDIT_BUREAU_MON       13.50\n",
       "AMT_REQ_CREDIT_BUREAU_QRT       13.50\n",
       "AMT_REQ_CREDIT_BUREAU_YEAR      13.50\n",
       "dtype: float64"
      ]
     },
     "metadata": {},
     "output_type": "display_data"
    }
   ],
   "source": [
    "\n",
    "pd.set_option(\"display.max_rows\", None, \"display.max_columns\", None)\n",
    "display( round(100 * (df.isnull().sum() / len(df.index)),2) )\n"
   ]
  },
  {
   "cell_type": "markdown",
   "id": "f8ff51ff-dd14-4d66-a2b8-63b6fc5b906b",
   "metadata": {},
   "source": [
    "\n",
    "<b>Removing columns with missing values more than 40%</b>\n",
    "<ul>  </ul>\n",
    " \n",
    "    "
   ]
  },
  {
   "cell_type": "code",
   "execution_count": 9,
   "id": "ad91a80d-5b15-4883-952c-1c46bf7d20ae",
   "metadata": {},
   "outputs": [],
   "source": [
    "df_copy = df_copy.drop(['OWN_CAR_AGE','OCCUPATION_TYPE','EXT_SOURCE_1','EXT_SOURCE_2','EXT_SOURCE_3',\n",
    "                        'APARTMENTS_AVG','BASEMENTAREA_AVG','YEARS_BEGINEXPLUATATION_AVG','YEARS_BUILD_AVG',\n",
    "                        'COMMONAREA_AVG','ELEVATORS_AVG','ENTRANCES_AVG','FLOORSMAX_AVG','FLOORSMIN_AVG',\n",
    "                        'LANDAREA_AVG','LIVINGAPARTMENTS_AVG','LIVINGAREA_AVG','NONLIVINGAPARTMENTS_AVG',\n",
    "                        'NONLIVINGAREA_AVG','APARTMENTS_MODE','BASEMENTAREA_MODE','YEARS_BEGINEXPLUATATION_MODE',\n",
    "                        'YEARS_BUILD_MODE','COMMONAREA_MODE','ELEVATORS_MODE','ENTRANCES_MODE','FLOORSMAX_MODE',\n",
    "                        'FLOORSMIN_MODE','LANDAREA_MODE','LIVINGAPARTMENTS_MODE','LIVINGAREA_MODE',\n",
    "                        'NONLIVINGAPARTMENTS_MODE','NONLIVINGAREA_MODE','APARTMENTS_MEDI','BASEMENTAREA_MEDI',\n",
    "                        'YEARS_BEGINEXPLUATATION_MEDI','YEARS_BUILD_MEDI','COMMONAREA_MEDI','ELEVATORS_MEDI',\n",
    "                        'ENTRANCES_MEDI','FLOORSMAX_MEDI','FLOORSMIN_MEDI','LANDAREA_MEDI',\n",
    "                        'LIVINGAPARTMENTS_MEDI','LIVINGAREA_MEDI','NONLIVINGAPARTMENTS_MEDI',\n",
    "                        'NONLIVINGAREA_MEDI','FONDKAPREMONT_MODE','HOUSETYPE_MODE','TOTALAREA_MODE',\n",
    "                        'WALLSMATERIAL_MODE','EMERGENCYSTATE_MODE'] , axis=1)"
   ]
  },
  {
   "cell_type": "code",
   "execution_count": 10,
   "id": "5a74f0a2-236d-4b65-8b32-3ddd86617951",
   "metadata": {},
   "outputs": [
    {
     "data": {
      "text/plain": [
       "(307511, 70)"
      ]
     },
     "execution_count": 10,
     "metadata": {},
     "output_type": "execute_result"
    }
   ],
   "source": [
    "df_copy.shape"
   ]
  },
  {
   "cell_type": "code",
   "execution_count": 11,
   "id": "b4923f1d-be64-418c-af5b-31fe91df5518",
   "metadata": {},
   "outputs": [
    {
     "data": {
      "text/plain": [
       "SK_ID_CURR                      0.00\n",
       "TARGET                          0.00\n",
       "NAME_CONTRACT_TYPE              0.00\n",
       "CODE_GENDER                     0.00\n",
       "FLAG_OWN_CAR                    0.00\n",
       "FLAG_OWN_REALTY                 0.00\n",
       "CNT_CHILDREN                    0.00\n",
       "AMT_INCOME_TOTAL                0.00\n",
       "AMT_CREDIT                      0.00\n",
       "AMT_ANNUITY                     0.00\n",
       "AMT_GOODS_PRICE                 0.09\n",
       "NAME_TYPE_SUITE                 0.42\n",
       "NAME_INCOME_TYPE                0.00\n",
       "NAME_EDUCATION_TYPE             0.00\n",
       "NAME_FAMILY_STATUS              0.00\n",
       "NAME_HOUSING_TYPE               0.00\n",
       "REGION_POPULATION_RELATIVE      0.00\n",
       "DAYS_BIRTH                      0.00\n",
       "DAYS_EMPLOYED                   0.00\n",
       "DAYS_REGISTRATION               0.00\n",
       "DAYS_ID_PUBLISH                 0.00\n",
       "FLAG_MOBIL                      0.00\n",
       "FLAG_EMP_PHONE                  0.00\n",
       "FLAG_WORK_PHONE                 0.00\n",
       "FLAG_CONT_MOBILE                0.00\n",
       "FLAG_PHONE                      0.00\n",
       "FLAG_EMAIL                      0.00\n",
       "CNT_FAM_MEMBERS                 0.00\n",
       "REGION_RATING_CLIENT            0.00\n",
       "REGION_RATING_CLIENT_W_CITY     0.00\n",
       "WEEKDAY_APPR_PROCESS_START      0.00\n",
       "HOUR_APPR_PROCESS_START         0.00\n",
       "REG_REGION_NOT_LIVE_REGION      0.00\n",
       "REG_REGION_NOT_WORK_REGION      0.00\n",
       "LIVE_REGION_NOT_WORK_REGION     0.00\n",
       "REG_CITY_NOT_LIVE_CITY          0.00\n",
       "REG_CITY_NOT_WORK_CITY          0.00\n",
       "LIVE_CITY_NOT_WORK_CITY         0.00\n",
       "ORGANIZATION_TYPE               0.00\n",
       "OBS_30_CNT_SOCIAL_CIRCLE        0.33\n",
       "DEF_30_CNT_SOCIAL_CIRCLE        0.33\n",
       "OBS_60_CNT_SOCIAL_CIRCLE        0.33\n",
       "DEF_60_CNT_SOCIAL_CIRCLE        0.33\n",
       "DAYS_LAST_PHONE_CHANGE          0.00\n",
       "FLAG_DOCUMENT_2                 0.00\n",
       "FLAG_DOCUMENT_3                 0.00\n",
       "FLAG_DOCUMENT_4                 0.00\n",
       "FLAG_DOCUMENT_5                 0.00\n",
       "FLAG_DOCUMENT_6                 0.00\n",
       "FLAG_DOCUMENT_7                 0.00\n",
       "FLAG_DOCUMENT_8                 0.00\n",
       "FLAG_DOCUMENT_9                 0.00\n",
       "FLAG_DOCUMENT_10                0.00\n",
       "FLAG_DOCUMENT_11                0.00\n",
       "FLAG_DOCUMENT_12                0.00\n",
       "FLAG_DOCUMENT_13                0.00\n",
       "FLAG_DOCUMENT_14                0.00\n",
       "FLAG_DOCUMENT_15                0.00\n",
       "FLAG_DOCUMENT_16                0.00\n",
       "FLAG_DOCUMENT_17                0.00\n",
       "FLAG_DOCUMENT_18                0.00\n",
       "FLAG_DOCUMENT_19                0.00\n",
       "FLAG_DOCUMENT_20                0.00\n",
       "FLAG_DOCUMENT_21                0.00\n",
       "AMT_REQ_CREDIT_BUREAU_HOUR     13.50\n",
       "AMT_REQ_CREDIT_BUREAU_DAY      13.50\n",
       "AMT_REQ_CREDIT_BUREAU_WEEK     13.50\n",
       "AMT_REQ_CREDIT_BUREAU_MON      13.50\n",
       "AMT_REQ_CREDIT_BUREAU_QRT      13.50\n",
       "AMT_REQ_CREDIT_BUREAU_YEAR     13.50\n",
       "dtype: float64"
      ]
     },
     "metadata": {},
     "output_type": "display_data"
    },
    {
     "name": "stdout",
     "output_type": "stream",
     "text": [
      "SK_ID_CURR                         0\n",
      "TARGET                             0\n",
      "NAME_CONTRACT_TYPE                 0\n",
      "CODE_GENDER                        0\n",
      "FLAG_OWN_CAR                       0\n",
      "FLAG_OWN_REALTY                    0\n",
      "CNT_CHILDREN                       0\n",
      "AMT_INCOME_TOTAL                   0\n",
      "AMT_CREDIT                         0\n",
      "AMT_ANNUITY                       12\n",
      "AMT_GOODS_PRICE                  278\n",
      "NAME_TYPE_SUITE                 1292\n",
      "NAME_INCOME_TYPE                   0\n",
      "NAME_EDUCATION_TYPE                0\n",
      "NAME_FAMILY_STATUS                 0\n",
      "NAME_HOUSING_TYPE                  0\n",
      "REGION_POPULATION_RELATIVE         0\n",
      "DAYS_BIRTH                         0\n",
      "DAYS_EMPLOYED                      0\n",
      "DAYS_REGISTRATION                  0\n",
      "DAYS_ID_PUBLISH                    0\n",
      "FLAG_MOBIL                         0\n",
      "FLAG_EMP_PHONE                     0\n",
      "FLAG_WORK_PHONE                    0\n",
      "FLAG_CONT_MOBILE                   0\n",
      "FLAG_PHONE                         0\n",
      "FLAG_EMAIL                         0\n",
      "CNT_FAM_MEMBERS                    2\n",
      "REGION_RATING_CLIENT               0\n",
      "REGION_RATING_CLIENT_W_CITY        0\n",
      "WEEKDAY_APPR_PROCESS_START         0\n",
      "HOUR_APPR_PROCESS_START            0\n",
      "REG_REGION_NOT_LIVE_REGION         0\n",
      "REG_REGION_NOT_WORK_REGION         0\n",
      "LIVE_REGION_NOT_WORK_REGION        0\n",
      "REG_CITY_NOT_LIVE_CITY             0\n",
      "REG_CITY_NOT_WORK_CITY             0\n",
      "LIVE_CITY_NOT_WORK_CITY            0\n",
      "ORGANIZATION_TYPE                  0\n",
      "OBS_30_CNT_SOCIAL_CIRCLE        1021\n",
      "DEF_30_CNT_SOCIAL_CIRCLE        1021\n",
      "OBS_60_CNT_SOCIAL_CIRCLE        1021\n",
      "DEF_60_CNT_SOCIAL_CIRCLE        1021\n",
      "DAYS_LAST_PHONE_CHANGE             1\n",
      "FLAG_DOCUMENT_2                    0\n",
      "FLAG_DOCUMENT_3                    0\n",
      "FLAG_DOCUMENT_4                    0\n",
      "FLAG_DOCUMENT_5                    0\n",
      "FLAG_DOCUMENT_6                    0\n",
      "FLAG_DOCUMENT_7                    0\n",
      "FLAG_DOCUMENT_8                    0\n",
      "FLAG_DOCUMENT_9                    0\n",
      "FLAG_DOCUMENT_10                   0\n",
      "FLAG_DOCUMENT_11                   0\n",
      "FLAG_DOCUMENT_12                   0\n",
      "FLAG_DOCUMENT_13                   0\n",
      "FLAG_DOCUMENT_14                   0\n",
      "FLAG_DOCUMENT_15                   0\n",
      "FLAG_DOCUMENT_16                   0\n",
      "FLAG_DOCUMENT_17                   0\n",
      "FLAG_DOCUMENT_18                   0\n",
      "FLAG_DOCUMENT_19                   0\n",
      "FLAG_DOCUMENT_20                   0\n",
      "FLAG_DOCUMENT_21                   0\n",
      "AMT_REQ_CREDIT_BUREAU_HOUR     41519\n",
      "AMT_REQ_CREDIT_BUREAU_DAY      41519\n",
      "AMT_REQ_CREDIT_BUREAU_WEEK     41519\n",
      "AMT_REQ_CREDIT_BUREAU_MON      41519\n",
      "AMT_REQ_CREDIT_BUREAU_QRT      41519\n",
      "AMT_REQ_CREDIT_BUREAU_YEAR     41519\n",
      "dtype: int64\n"
     ]
    }
   ],
   "source": [
    "\n",
    "# Percentage of Null Values:\n",
    "pd.set_option(\"display.max_rows\", None, \"display.max_columns\", None)\n",
    "display( round(100 * (df_copy.isnull().sum() / len(df_copy.index)),2) )\n",
    "\n",
    "\n",
    "# Count of Null Values:\n",
    "print(df_copy.isnull().sum())\n"
   ]
  },
  {
   "cell_type": "code",
   "execution_count": 12,
   "id": "290cbcfe-7bf9-44c6-9e61-4ea2b06c3c52",
   "metadata": {},
   "outputs": [
    {
     "name": "stdout",
     "output_type": "stream",
     "text": [
      "<class 'pandas.core.frame.DataFrame'>\n",
      "Int64Index: 307511 entries, 0 to 307510\n",
      "Data columns (total 70 columns):\n",
      " #   Column                       Non-Null Count   Dtype  \n",
      "---  ------                       --------------   -----  \n",
      " 0   SK_ID_CURR                   307511 non-null  int64  \n",
      " 1   TARGET                       307511 non-null  int64  \n",
      " 2   NAME_CONTRACT_TYPE           307511 non-null  object \n",
      " 3   CODE_GENDER                  307511 non-null  object \n",
      " 4   FLAG_OWN_CAR                 307511 non-null  object \n",
      " 5   FLAG_OWN_REALTY              307511 non-null  object \n",
      " 6   CNT_CHILDREN                 307511 non-null  int64  \n",
      " 7   AMT_INCOME_TOTAL             307511 non-null  float64\n",
      " 8   AMT_CREDIT                   307511 non-null  float64\n",
      " 9   AMT_ANNUITY                  307499 non-null  float64\n",
      " 10  AMT_GOODS_PRICE              307233 non-null  float64\n",
      " 11  NAME_TYPE_SUITE              306219 non-null  object \n",
      " 12  NAME_INCOME_TYPE             307511 non-null  object \n",
      " 13  NAME_EDUCATION_TYPE          307511 non-null  object \n",
      " 14  NAME_FAMILY_STATUS           307511 non-null  object \n",
      " 15  NAME_HOUSING_TYPE            307511 non-null  object \n",
      " 16  REGION_POPULATION_RELATIVE   307511 non-null  float64\n",
      " 17  DAYS_BIRTH                   307511 non-null  int64  \n",
      " 18  DAYS_EMPLOYED                307511 non-null  int64  \n",
      " 19  DAYS_REGISTRATION            307511 non-null  float64\n",
      " 20  DAYS_ID_PUBLISH              307511 non-null  int64  \n",
      " 21  FLAG_MOBIL                   307511 non-null  int64  \n",
      " 22  FLAG_EMP_PHONE               307511 non-null  int64  \n",
      " 23  FLAG_WORK_PHONE              307511 non-null  int64  \n",
      " 24  FLAG_CONT_MOBILE             307511 non-null  int64  \n",
      " 25  FLAG_PHONE                   307511 non-null  int64  \n",
      " 26  FLAG_EMAIL                   307511 non-null  int64  \n",
      " 27  CNT_FAM_MEMBERS              307509 non-null  float64\n",
      " 28  REGION_RATING_CLIENT         307511 non-null  int64  \n",
      " 29  REGION_RATING_CLIENT_W_CITY  307511 non-null  int64  \n",
      " 30  WEEKDAY_APPR_PROCESS_START   307511 non-null  object \n",
      " 31  HOUR_APPR_PROCESS_START      307511 non-null  int64  \n",
      " 32  REG_REGION_NOT_LIVE_REGION   307511 non-null  int64  \n",
      " 33  REG_REGION_NOT_WORK_REGION   307511 non-null  int64  \n",
      " 34  LIVE_REGION_NOT_WORK_REGION  307511 non-null  int64  \n",
      " 35  REG_CITY_NOT_LIVE_CITY       307511 non-null  int64  \n",
      " 36  REG_CITY_NOT_WORK_CITY       307511 non-null  int64  \n",
      " 37  LIVE_CITY_NOT_WORK_CITY      307511 non-null  int64  \n",
      " 38  ORGANIZATION_TYPE            307511 non-null  object \n",
      " 39  OBS_30_CNT_SOCIAL_CIRCLE     306490 non-null  float64\n",
      " 40  DEF_30_CNT_SOCIAL_CIRCLE     306490 non-null  float64\n",
      " 41  OBS_60_CNT_SOCIAL_CIRCLE     306490 non-null  float64\n",
      " 42  DEF_60_CNT_SOCIAL_CIRCLE     306490 non-null  float64\n",
      " 43  DAYS_LAST_PHONE_CHANGE       307510 non-null  float64\n",
      " 44  FLAG_DOCUMENT_2              307511 non-null  int64  \n",
      " 45  FLAG_DOCUMENT_3              307511 non-null  int64  \n",
      " 46  FLAG_DOCUMENT_4              307511 non-null  int64  \n",
      " 47  FLAG_DOCUMENT_5              307511 non-null  int64  \n",
      " 48  FLAG_DOCUMENT_6              307511 non-null  int64  \n",
      " 49  FLAG_DOCUMENT_7              307511 non-null  int64  \n",
      " 50  FLAG_DOCUMENT_8              307511 non-null  int64  \n",
      " 51  FLAG_DOCUMENT_9              307511 non-null  int64  \n",
      " 52  FLAG_DOCUMENT_10             307511 non-null  int64  \n",
      " 53  FLAG_DOCUMENT_11             307511 non-null  int64  \n",
      " 54  FLAG_DOCUMENT_12             307511 non-null  int64  \n",
      " 55  FLAG_DOCUMENT_13             307511 non-null  int64  \n",
      " 56  FLAG_DOCUMENT_14             307511 non-null  int64  \n",
      " 57  FLAG_DOCUMENT_15             307511 non-null  int64  \n",
      " 58  FLAG_DOCUMENT_16             307511 non-null  int64  \n",
      " 59  FLAG_DOCUMENT_17             307511 non-null  int64  \n",
      " 60  FLAG_DOCUMENT_18             307511 non-null  int64  \n",
      " 61  FLAG_DOCUMENT_19             307511 non-null  int64  \n",
      " 62  FLAG_DOCUMENT_20             307511 non-null  int64  \n",
      " 63  FLAG_DOCUMENT_21             307511 non-null  int64  \n",
      " 64  AMT_REQ_CREDIT_BUREAU_HOUR   265992 non-null  float64\n",
      " 65  AMT_REQ_CREDIT_BUREAU_DAY    265992 non-null  float64\n",
      " 66  AMT_REQ_CREDIT_BUREAU_WEEK   265992 non-null  float64\n",
      " 67  AMT_REQ_CREDIT_BUREAU_MON    265992 non-null  float64\n",
      " 68  AMT_REQ_CREDIT_BUREAU_QRT    265992 non-null  float64\n",
      " 69  AMT_REQ_CREDIT_BUREAU_YEAR   265992 non-null  float64\n",
      "dtypes: float64(18), int64(41), object(11)\n",
      "memory usage: 166.6+ MB\n",
      "<class 'NoneType'>\n"
     ]
    }
   ],
   "source": [
    "print(type(df_copy.info()))"
   ]
  },
  {
   "cell_type": "markdown",
   "id": "fa05d54e-0b93-4788-a328-25e046ce096b",
   "metadata": {},
   "source": [
    "\n",
    "<b>Dealing with missing values</b>\n",
    "<ul>  </ul>\n",
    " \n",
    "    "
   ]
  },
  {
   "cell_type": "markdown",
   "id": "3814d480-0250-45f0-9c8f-a67d3194aaaa",
   "metadata": {},
   "source": [
    "\n",
    "<li> Now we have dropped {52} unused columns, since the Null values percentage for these columns is more than 40%</li>\n",
    "\n",
    "<li>Moreover, we have now {70} columns, {12} of them have percentage of Null values less than 40% and we need to handle them.</li>\n",
    "\n",
    "<li>The rest of columns have 0% of Null values </li>\n",
    "\n",
    "<ul>  </ul>\n",
    "\n",
    "<b>  </b> \n",
    "    "
   ]
  },
  {
   "cell_type": "code",
   "execution_count": null,
   "id": "a34864f4-5896-428b-8514-5f6f2375e189",
   "metadata": {},
   "outputs": [],
   "source": []
  },
  {
   "cell_type": "markdown",
   "id": "205889e7-ffb0-4664-83ca-db95af1a961b",
   "metadata": {
    "tags": []
   },
   "source": [
    "# Features Understanding"
   ]
  },
  {
   "cell_type": "markdown",
   "id": "18fb15c2-502c-429c-9f6b-0e6129b0b055",
   "metadata": {},
   "source": [
    "\n",
    "<b>The dataset contain all the information of the client at the time of application for loan. The data is about whether a client has payment difficulties or NOT</b>\n",
    "\n",
    "<ul> Therefore, we have column \"TARGET\", that will predict to minimise the risk of losing money while lending to customers. \n",
    "</ul>\n",
    "\n",
    "<ul> Moreover, it contains two options:</ul>\n",
    "<ul> <b>1</b> :Client with payment difficulties: he/she had late payment more than X days. \"Defaulter\"\n",
    "\n",
    "<b>0</b> : All other cases when the payment is paid on time. \"Non-Defaulter\" </ul>\n",
    "\n",
    "\n",
    "<b>\n",
    "    Distribution of Target variable\n",
    "</b>\n",
    " "
   ]
  },
  {
   "cell_type": "code",
   "execution_count": 64,
   "id": "affa0bd2-568e-4f1c-bc8f-1f9d1ef7612f",
   "metadata": {},
   "outputs": [
    {
     "data": {
      "text/plain": [
       "Text(0.5, 1.0, 'Count of Target variable')"
      ]
     },
     "execution_count": 64,
     "metadata": {},
     "output_type": "execute_result"
    },
    {
     "data": {
      "image/png": "[encoded data removed]",
      "text/plain": [
       "<Figure size 432x288 with 1 Axes>"
      ]
     },
     "metadata": {
      "needs_background": "light"
     },
     "output_type": "display_data"
    }
   ],
   "source": [
    "T1 = df_copy[\"TARGET\"].value_counts().plot(kind=\"barh\")\n",
    "#for i,j in enumerate(df_copy[\"TARGET\"].value_counts().values):\n",
    " #   T1.text(0.5,i,j,fontsize=20)\n",
    "plt.title(\"Count of Target variable\")"
   ]
  },
  {
   "cell_type": "code",
   "execution_count": 47,
   "id": "adbca0fd-46d9-4794-b048-7e3d7eee1711",
   "metadata": {},
   "outputs": [
    {
     "data": {
      "text/plain": [
       "Text(0.5, 1.0, 'Percentage of Target variable')"
      ]
     },
     "execution_count": 47,
     "metadata": {},
     "output_type": "execute_result"
    },
    {
     "data": {
      "image/png": "[encoded data removed]",
      "text/plain": [
       "<Figure size 360x360 with 1 Axes>"
      ]
     },
     "metadata": {},
     "output_type": "display_data"
    }
   ],
   "source": [
    "T2 = df_copy[\"TARGET\"].value_counts().plot.pie(labels=[\"Non-Defaulter\",\"Defaulter\"],startangle = 50,label='',\n",
    "                                          wedgeprops={\"linewidth\":5},center=(0, 0),colors = [\"Green\",\"Red\"],\n",
    "                                          rotatelabels=False,explode=[0.1,0],autopct = \"%1.0f%%\",figsize=(5,5))\n",
    "plt.title(\"Percentage of Target variable\")"
   ]
  },
  {
   "cell_type": "markdown",
   "id": "5cc0bc72-ff22-49e5-9d2f-a05ddaa18297",
   "metadata": {},
   "source": [
    "\n",
    "<b>\n",
    "    Distribution of [NAME_CONTRACT_TYPE] variable\n",
    "</b>\n",
    " "
   ]
  },
  {
   "cell_type": "code",
   "execution_count": 20,
   "id": "c8f540c7-c2ab-4836-9a95-cf6906090c0d",
   "metadata": {},
   "outputs": [
    {
     "data": {
      "text/plain": [
       "array(['Cash loans', 'Revolving loans'], dtype=object)"
      ]
     },
     "execution_count": 20,
     "metadata": {},
     "output_type": "execute_result"
    }
   ],
   "source": [
    "df['NAME_CONTRACT_TYPE'].unique()"
   ]
  },
  {
   "cell_type": "code",
   "execution_count": 51,
   "id": "d622dcd6-9374-4ce9-9b92-ff3e2cc366c4",
   "metadata": {},
   "outputs": [
    {
     "data": {
      "text/plain": [
       "Text(0.5, 1.0, 'Percentage of NAME_CONTRACT_TYPE variable')"
      ]
     },
     "execution_count": 51,
     "metadata": {},
     "output_type": "execute_result"
    },
    {
     "data": {
      "image/png": "[encoded data removed]",
      "text/plain": [
       "<Figure size 360x360 with 1 Axes>"
      ]
     },
     "metadata": {},
     "output_type": "display_data"
    }
   ],
   "source": [
    "NCT = df_copy[\"NAME_CONTRACT_TYPE\"].value_counts().plot.pie(labels=[\"Cash loans\",\"Revolving loans\"],\n",
    "                                                            startangle = 30,wedgeprops={\"linewidth\":5},\n",
    "                                                            center=(0, 0),colors = [\"Blue\",\"Yellow\"],\n",
    "                                                            rotatelabels=False,explode=[0.1,0],\n",
    "                                                            autopct = \"%1.0f%%\",figsize=(5,5),label='')\n",
    "plt.title(\"Percentage of NAME_CONTRACT_TYPE variable\")"
   ]
  },
  {
   "cell_type": "markdown",
   "id": "26766f1c-d4d2-4b2d-bf7c-ca956c244052",
   "metadata": {},
   "source": [
    "\n",
    "<b>\n",
    "    Distribution of [Amount Data] variable:\n",
    "</b>\n",
    "    <li> [AMT_INCOME_TOTAL]: income of the client\n",
    "    <li> [AMT_CREDIT]: credit amount of the loan\n",
    "    <li> [AMT_ANNUITY]: loan annuity\n",
    "    <li> [AMT_GOODS_PRICE]: for consumer loans it is the price of the goods for which the loan is given\n",
    "</li>\n",
    "\n",
    " "
   ]
  },
  {
   "cell_type": "code",
   "execution_count": null,
   "id": "f8dea50a-e28d-4f1f-9f38-6433bbbc8d6f",
   "metadata": {},
   "outputs": [],
   "source": [
    "#AD = df_copy[['AMT_INCOME_TOTAL', 'AMT_CREDIT','AMT_ANNUITY', 'AMT_GOODS_PRICE']]\n",
    "#plt.subplot(4, 4, AD)\n",
    "#plt.show()"
   ]
  },
  {
   "cell_type": "code",
   "execution_count": null,
   "id": "4ca1e429-c431-4180-b7d1-493ad6a2c72a",
   "metadata": {},
   "outputs": [],
   "source": [
    "AD = df_copy[['AMT_INCOME_TOTAL', 'AMT_CREDIT','AMT_ANNUITY', 'AMT_GOODS_PRICE']].value_counts().plot(kind=\"bar\")\n",
    "#for i,j in enumerate(df_copy[\"TARGET\"].value_counts().values):\n",
    " #   T1.text(0.5,i,j,fontsize=20)\n",
    "plt.title(\"Count of Target variable\")"
   ]
  },
  {
   "cell_type": "markdown",
   "id": "c7d998e2-18ec-4c7c-9883-2bf604d09386",
   "metadata": {
    "tags": []
   },
   "source": [
    "## Features Correlation"
   ]
  },
  {
   "cell_type": "code",
   "execution_count": null,
   "id": "cffb8030-2d3c-4fa3-910d-d0838e095482",
   "metadata": {},
   "outputs": [],
   "source": [
    "print(type(df_copy.info()))"
   ]
  },
  {
   "cell_type": "code",
   "execution_count": null,
   "id": "280974f5-7416-419f-a718-eb91ae0918c9",
   "metadata": {},
   "outputs": [],
   "source": []
  }
 ],
 "metadata": {
  "kernelspec": {
   "display_name": "Python 3 (ipykernel)",
   "language": "python",
   "name": "python3"
  },
  "language_info": {
   "codemirror_mode": {
    "name": "ipython",
    "version": 3
   },
   "file_extension": ".py",
   "mimetype": "text/x-python",
   "name": "python",
   "nbconvert_exporter": "python",
   "pygments_lexer": "ipython3",
   "version": "3.9.7"
  }
 },
 "nbformat": 4,
 "nbformat_minor": 5
}
